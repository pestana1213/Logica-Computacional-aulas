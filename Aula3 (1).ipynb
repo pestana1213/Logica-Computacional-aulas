{
  "nbformat": 4,
  "nbformat_minor": 0,
  "metadata": {
    "kernelspec": {
      "display_name": "Python 3",
      "language": "python",
      "name": "python3"
    },
    "language_info": {
      "codemirror_mode": {
        "name": "ipython",
        "version": 3
      },
      "file_extension": ".py",
      "mimetype": "text/x-python",
      "name": "python",
      "nbconvert_exporter": "python",
      "pygments_lexer": "ipython3",
      "version": "3.8.8"
    },
    "colab": {
      "name": "Aula3.ipynb",
      "provenance": [],
      "collapsed_sections": []
    }
  },
  "cells": [
    {
      "cell_type": "markdown",
      "metadata": {
        "id": "qm74Ke0WGTy6"
      },
      "source": [
        "# Problemas de alocação\n",
        "\n",
        "Os problemas de alocação modelam uma relação entre dois tipos de entidades: *compromissos* e *recursos*. Adicionalmente, as restrições sobre a alocação de recursos a compromissos classificam-se em dois tipos: *obrigações* e *limitações*.\n",
        "\n",
        "Nesta aula vamos considerar um problema de alocação. Pretende-se que faça a modelação do problema em Programação Inteira e que use o SCIP para os resolver.\n",
        "\n",
        "Usaremos a biblioteca [OR-Tools](https://developers.google.com/optimization) para fazer a interface para o SCIP. Esta biblioteca pode ser instalada com o commando `pip install ortools`.\n"
      ]
    },
    {
      "cell_type": "code",
      "metadata": {
        "id": "lUxQgi4tGTy_",
        "colab": {
          "base_uri": "https://localhost:8080/",
          "height": 497
        },
        "outputId": "564df92c-0733-4dda-8d2b-4862c86f7d59"
      },
      "source": [
        "!pip install ortools"
      ],
      "execution_count": null,
      "outputs": [
        {
          "output_type": "stream",
          "name": "stdout",
          "text": [
            "Collecting ortools\n",
            "  Downloading ortools-9.1.9490-cp37-cp37m-manylinux_2_17_x86_64.manylinux2014_x86_64.whl (14.5 MB)\n",
            "\u001b[K     |████████████████████████████████| 14.5 MB 92 kB/s \n",
            "\u001b[?25hCollecting protobuf>=3.18.0\n",
            "  Downloading protobuf-3.19.0-cp37-cp37m-manylinux_2_17_x86_64.manylinux2014_x86_64.whl (1.1 MB)\n",
            "\u001b[K     |████████████████████████████████| 1.1 MB 43.0 MB/s \n",
            "\u001b[?25hCollecting absl-py>=0.13\n",
            "  Downloading absl_py-0.15.0-py3-none-any.whl (132 kB)\n",
            "\u001b[K     |████████████████████████████████| 132 kB 65.6 MB/s \n",
            "\u001b[?25hRequirement already satisfied: six in /usr/local/lib/python3.7/dist-packages (from absl-py>=0.13->ortools) (1.15.0)\n",
            "Installing collected packages: protobuf, absl-py, ortools\n",
            "  Attempting uninstall: protobuf\n",
            "    Found existing installation: protobuf 3.17.3\n",
            "    Uninstalling protobuf-3.17.3:\n",
            "      Successfully uninstalled protobuf-3.17.3\n",
            "  Attempting uninstall: absl-py\n",
            "    Found existing installation: absl-py 0.12.0\n",
            "    Uninstalling absl-py-0.12.0:\n",
            "      Successfully uninstalled absl-py-0.12.0\n",
            "\u001b[31mERROR: pip's dependency resolver does not currently take into account all the packages that are installed. This behaviour is the source of the following dependency conflicts.\n",
            "tensorflow-metadata 1.2.0 requires absl-py<0.13,>=0.9, but you have absl-py 0.15.0 which is incompatible.\u001b[0m\n",
            "Successfully installed absl-py-0.15.0 ortools-9.1.9490 protobuf-3.19.0\n"
          ]
        },
        {
          "output_type": "display_data",
          "data": {
            "application/vnd.colab-display-data+json": {
              "pip_warning": {
                "packages": [
                  "google"
                ]
              }
            }
          },
          "metadata": {}
        }
      ]
    },
    {
      "cell_type": "markdown",
      "metadata": {
        "id": "XtKrQ1REGTzB"
      },
      "source": [
        "## Horário de um centro de estudos\n",
        "\n",
        "Um centro de estudos possui $S$ salas de aula, $P$ professores, e está aberto $H$ horas por dia, durante $D$ dias na semana.\n",
        "\n",
        "O centro de estudos funciona com as seguintes regras:\n",
        "- Cada professor não pode dar mais do que $C$ horas por dia.\n",
        "- Todos os professores do centro devem ter uma carga horária semanal parecida (diferença máxima de 2 horas).\n",
        "- Não é permitido mais do que um professor por sala.\n",
        "- Alocações contíguas do mesmo professor têm de ser na mesma sala.\n",
        "\n",
        "Pretende-se estabelecer um horário para o centro de estudos que permita ter um número mínimo de aulas $N$ por semana."
      ]
    },
    {
      "cell_type": "markdown",
      "metadata": {
        "id": "1cENlISOGTzB"
      },
      "source": [
        "### Análise do problema\n",
        "\n",
        "Este é um problema de alocação. Pretende-se alocar professores a salas de aula, ao longo da semana, sendo o tempo de ocupação das salas de uma hora. \n",
        "\n",
        "Existem $P$ professores, que podemos identificar por um índice $p \\in [0..P\\!-\\!1]$, e podemos identificar cada sala disponível num dado dia, a uma dada hora, por um triplo $(s,d,h) \\in [0..S\\!-\\!1]\\times[0..D\\!-\\!1]\\times[0..H\\!-\\!1]$.\n",
        "\n",
        "Vamos usar uma família $x_{p,s,d,h}$ de variáveis binárias (i.e., que assumem valores inteiros $\\{0,1\\}$), com a seguinte semântica\n",
        "\n",
        "$$x_{p,s,d,h} == 1  \\quad \\mbox{se e só se} \\quad \\mbox{o professor $p$ for alocado à sala $s$, no dia $d$, à hora $h$.}$$\n",
        "\n",
        "Estas $P\\times S\\times D\\times H$ variáveis são convenientemente representadas numa matriz $X$ instanciável com valores $\\{0,1\\}^{P\\times S\\times D\\times H}$, a que se costuma chamar *matriz de alocação*.\n",
        "\n",
        "Destaca-se ainda o seguinte:\n",
        "\n",
        "**Limitações** (que impõem limites máximos à alocação)\n",
        "\n",
        "1. A carga horária diária máxima de cada professor é $C$.\n",
        "2. Cada sala tem alocado, no máximo, um professor.\n",
        "3. Em cada dia e hora, cada professor é alocado 0 ou 1 vezes.\n",
        "4. No mesmo dia duas alocações contíguas do mesmo professor têm de ser na mesma sala.\n",
        "\n",
        "\n",
        "**Obrigações** (que impõem limites mínimos à alocação)\n",
        "\n",
        "5. Todos os professores têm uma carga horaria semanal parecida (diferença máxima de 2 horas).\n",
        "6. O número mínimo de aulas por semana é $N$."
      ]
    },
    {
      "cell_type": "markdown",
      "metadata": {
        "id": "nsiPBF-eGTzC"
      },
      "source": [
        "### Implementação\n",
        "\n",
        "Começamos por importar a biblioteca de programação linear do OR-Tools e criar uma instância do *solver*.\n",
        "\n",
        "\n",
        "Depois inicializamos o *solver* `horario` e definir os valores para as constantes $S$, $P$, $H$, $D$, $C$ e $N$."
      ]
    },
    {
      "cell_type": "code",
      "metadata": {
        "id": "zvJ27RwPGTzC",
        "colab": {
          "base_uri": "https://localhost:8080/"
        },
        "outputId": "d7dd3c95-2418-4147-c652-a4ff20bf1fa7"
      },
      "source": [
        "from ortools.linear_solver import pywraplp\n",
        "\n",
        "def horario(S,P,H,D,C,N):\n",
        "  solver = pywraplp.Solver.CreateSolver('SCIP')\n",
        "\n",
        "  #Exercicio 1\n",
        "  x = {}\n",
        "\n",
        "  for p in range(P): #Para cada professor\n",
        "    for s in range(S):  #Para cada sala\n",
        "      for h in range(H):  #Para cada hora\n",
        "        for d in range(D):  #Para cada dia\n",
        "          x[p,s,d,h] = solver.BoolVar(\"x[%d,%d,%d,%d]\" % (p,s,d,h))\n",
        "\n",
        "  T = solver.IntVar(0.0,H*D,\"T\")\n",
        "  for d in range(D):\n",
        "    for p in range(P):\n",
        "       solver.Add(sum([x[p,s,d,h] for h in range(H) for s in range(S)]) <= C)\n",
        "\n",
        "\n",
        "  #Exercicio 2\n",
        "  \n",
        "  #Restriçao 2.\n",
        "  for s in range(S):\n",
        "    for d in range(D):\n",
        "      for h in range(H):\n",
        "        solver.Add(sum([x[p,s,d,h] for p in range(P)]) <= 1)\n",
        "  \n",
        "  #Restrição 3.\n",
        "  for d in range(D):\n",
        "    for h in range(H):\n",
        "      for p in range(P):\n",
        "        solver.Add(sum([x[p,s,d,h] for s in range(S)]) <= 1)\n",
        "  \n",
        "  #Restrição 4.\n",
        "  for p in range(P):\n",
        "    solver.Add(sum(x[p,s,d,h] for s in range(S) for d in range(D) for h in range(H)) <= T)\n",
        "    solver.Add(sum(x[p,s,d,h] for s in range(S) for d in range(D) for h in range(H)) <= T)\n",
        "\n",
        "  #Restrição 6.\n",
        "  solver.Add(sum(x.values()) >= N)\n",
        "\n",
        "  #Restrição 5.\n",
        "  for o in range(P):\n",
        "    for d in range(D):\n",
        "      for h in range(H-1):\n",
        "        for s in range(s):\n",
        "          for s_ in range(s+1,S):\n",
        "            solver.Add(x[p,s,d,h] + x[p,s_,d,h+1] <= 1)\n",
        "            solver.Add(x[p,s_,d,h] + x[p,s,d,h+1] <= 1) \n",
        "            \n",
        "\n",
        "\n",
        "  status = solver.Solve()\n",
        "  if status == pywraplp.Solver.OPTIMAL:\n",
        "    for p in range(P):\n",
        "      print(\"Prof\",p)\n",
        "      for h in range(H):\n",
        "        print(\"Hora\",h,end='')\n",
        "        for d in range(D):\n",
        "          print(\",\",end='')\n",
        "          for s in range(S):\n",
        "            if round(x[p,s,d,h].solution_value()) == 1:\n",
        "              print(s,end='')\n",
        "        print()\n",
        "\n",
        "\n",
        "#S, P, H, D, C, N = 1, 2, 6, 5, 4, \n",
        "x = horario(1,2,6,5,4,21)\n",
        "\n"
      ],
      "execution_count": null,
      "outputs": [
        {
          "output_type": "stream",
          "name": "stdout",
          "text": [
            "Prof 0\n",
            "Hora 0,0,0,0,0,0\n",
            "Hora 1,0,0,0,0,0\n",
            "Hora 2,0,0,0,0,0\n",
            "Hora 3,0,0,0,0,0\n",
            "Hora 4,,,,,\n",
            "Hora 5,,,,,\n",
            "Prof 1\n",
            "Hora 0,,,,,\n",
            "Hora 1,,,,,\n",
            "Hora 2,,,,,\n",
            "Hora 3,,,,,\n",
            "Hora 4,0,0,0,0,0\n",
            "Hora 5,0,0,0,0,0\n"
          ]
        }
      ]
    },
    {
      "cell_type": "markdown",
      "metadata": {
        "id": "Ov_Egb_aGTzD"
      },
      "source": [
        "Em seguida, declaramos a matriz de alocação, $X$, e uma variável $T$ que irá representar a carga horária semanal mínima de cada professor (com as restrições adequadas)."
      ]
    },
    {
      "cell_type": "markdown",
      "metadata": {
        "id": "YB6lP3VaGTzD"
      },
      "source": [
        "### Exercício 1\n",
        "\n",
        "Complete a declaração da matriz de alocação $X$ como um dicionário."
      ]
    },
    {
      "cell_type": "code",
      "metadata": {
        "id": "foHh_W_8GTzD"
      },
      "source": [
        "x = {}\n",
        "# completar\n",
        "\n",
        "                \n",
        "def X(p,s,d,h):              # abreviatura\n",
        "    return x[p][s][d][h]           \n",
        "\n",
        "T = horario.IntVar(0.0,H*D,\"T\")"
      ],
      "execution_count": null,
      "outputs": []
    },
    {
      "cell_type": "markdown",
      "metadata": {
        "id": "x4oLYNM6GTzE"
      },
      "source": [
        "Passamos agora à modelação das restrições e à sua introdução no *solver*.\n",
        "\n",
        "A restrição\n",
        "\n",
        "1. A carga horária diaria máxima de cada professor é $C$\n",
        "\n",
        "pode expressar-se da seguinte forma:\n",
        "\n",
        "$$\\forall_{d< D} \\cdot \\forall_{p< P} \\cdot \\quad \\sum_{h< H,\\,s< S} x_{p,s,d,h} \\leq C$$"
      ]
    },
    {
      "cell_type": "code",
      "metadata": {
        "id": "PejhYKKbGTzE"
      },
      "source": [
        "for d in range(D):\n",
        "    for p in range(P):\n",
        "       solver.Add(sum([X(p,s,d,h) for h in range(H) for s in range(S)]) <= C)"
      ],
      "execution_count": null,
      "outputs": []
    },
    {
      "cell_type": "markdown",
      "metadata": {
        "id": "eUYL_nPFGTzE"
      },
      "source": [
        "### Exercício 2\n",
        "\n",
        "Apresente as fórmulas que modelam as restantes restrições e acrescente-as ao problema `horario`.\n",
        "\n",
        "2. Cada sala tem alocada, no máximo, um professor.\n",
        "$$\\forall_{d} \\forall_{h} \\forall_{s} \\cdot \\sum_{p} x{p,s,d,h} \\leq 1 $$\n"
      ]
    },
    {
      "cell_type": "code",
      "metadata": {
        "id": "G-m55v0hGTzE"
      },
      "source": [
        "# completar"
      ],
      "execution_count": null,
      "outputs": []
    },
    {
      "cell_type": "markdown",
      "metadata": {
        "id": "00Ahl-P2GTzF"
      },
      "source": [
        "3. Em cada dia e hora, cada professor é alocado 0 ou 1 vezes.\n",
        "\n",
        "$$\n",
        "\\forall_{d} \\forall_{h} \\forall_{p} \\cdot \\sum_{s} x{p,s,d,h} \\leq 1\n",
        "$$"
      ]
    },
    {
      "cell_type": "code",
      "metadata": {
        "id": "cIllcXXnGTzF"
      },
      "source": [
        "# completar"
      ],
      "execution_count": null,
      "outputs": []
    },
    {
      "cell_type": "markdown",
      "metadata": {
        "id": "Ok9ow7OoGTzF"
      },
      "source": [
        "4. Todos os professores têm uma carga horaria semanal parecida (diferença máxima de 2 horas).\n",
        "\n",
        "$$\n",
        "\\forall_{s} \\forall_{h} \\cdot \\sum_{p} x{p,s,h} \\leq \n",
        "$$"
      ]
    },
    {
      "cell_type": "code",
      "metadata": {
        "id": "3iOLD4lsGTzG"
      },
      "source": [
        "# completar"
      ],
      "execution_count": null,
      "outputs": []
    },
    {
      "cell_type": "markdown",
      "metadata": {
        "id": "P9aBI-47GTzG"
      },
      "source": [
        "5. No mesmo dia duas alocações contíguas do mesmo professor têm de ser na mesma sala.\n",
        "\n",
        "$$\n",
        "\\forall_{p} \\forall_{d} \\forall_{} \\cdot \\sum_{p} x{p,s,h} \\leq \n",
        "$$"
      ]
    },
    {
      "cell_type": "code",
      "metadata": {
        "id": "_93GrtW9GTzG"
      },
      "source": [
        "# completar"
      ],
      "execution_count": null,
      "outputs": []
    },
    {
      "cell_type": "markdown",
      "metadata": {
        "id": "78_mkZ64GTzH"
      },
      "source": [
        "6. O número mínimo de aulas por semana é $N$.\n",
        "\n",
        "$$\n",
        "...\n",
        "$$"
      ]
    },
    {
      "cell_type": "code",
      "metadata": {
        "id": "T5N7FrGLGTzH"
      },
      "source": [
        "# completar"
      ],
      "execution_count": null,
      "outputs": []
    },
    {
      "cell_type": "markdown",
      "metadata": {
        "id": "CPF-K3sPGTzH"
      },
      "source": [
        "### Exercício 3\n",
        "\n",
        "Finalize a resolução do problema procurando uma solução, e imprimindo o número de aulas por semana, caso exista."
      ]
    },
    {
      "cell_type": "code",
      "metadata": {
        "id": "uM01CqR4GTzH"
      },
      "source": [
        "# completar"
      ],
      "execution_count": null,
      "outputs": []
    },
    {
      "cell_type": "markdown",
      "metadata": {
        "id": "nSThh2OmGTzJ"
      },
      "source": [
        "### Exercício 4\n",
        "\n",
        "Defina funções para construir os horarios de professores e salas individuais, e para apresentar de forma legível esses horários."
      ]
    },
    {
      "cell_type": "code",
      "metadata": {
        "id": "o1CsauGPGTzJ"
      },
      "source": [
        "# completar"
      ],
      "execution_count": null,
      "outputs": []
    },
    {
      "cell_type": "markdown",
      "metadata": {
        "id": "wEvQeGL_GTzK"
      },
      "source": [
        "### Exercício 5\n",
        "\n",
        "Explore o comportamento do modelo pela variação dos parâmetros $S$, $P$, $H$, $D$, $C$ e $N$."
      ]
    },
    {
      "cell_type": "markdown",
      "metadata": {
        "id": "IvnRPqlHGTzK"
      },
      "source": [
        "### Exercício 6\n",
        "\n",
        "Queremos agora acrescentar a seguinte regra no funcionamento do centro de estudos:\n",
        "\n",
        "> Cada professor tem de ter um dia da semana em que não dá aulas.\n",
        "\n",
        "Esta *obrigação* poderia ser expressa matematicamente, de forma direta, por\n",
        "$$\n",
        "\\forall_{p<P}.\\exists_{d<D}. \\quad \\sum_{s<S,h<H} x_{p,s,d,h} = 0\n",
        "$$\n",
        "ou, em alternativa, pela seguinte expressão\n",
        "$$\n",
        "\\forall_{p<P}. \\quad \\bigvee_{d<D} \\big(\\sum_{s<S,h<H} x_{p,s,d,h} = 0\\big) \n",
        "$$\n",
        "\n",
        "Contudo a disjunção não tem uma representação direta nos solvers para programação inteira. Para a implementar podemos acrescentar uma família de variáveis binárias $y_{p,d}$ que indicam se o professor $p$ dá aulas no dia $d$, com a seguinte restrição que limita o número máximo de dias em que o professor dá aulas.\n",
        "\n",
        "$$\\forall_{p<P} \\cdot \\quad \\sum_{d<D} y_{p,d} \\leq D-1 $$"
      ]
    },
    {
      "cell_type": "markdown",
      "metadata": {
        "id": "hSH6ZG1nGTzK"
      },
      "source": [
        "O valor de  $y_{p,d}$ deve também de alguma forma limitar superiormente as aulas que o professor $p$ dá no dia $d$.\n",
        "Apresente uma fórmula que modele esta nova limitação."
      ]
    },
    {
      "cell_type": "markdown",
      "metadata": {
        "id": "tu1RcHkYGTzL"
      },
      "source": [
        "$$...$$\n",
        "\n"
      ]
    },
    {
      "cell_type": "markdown",
      "metadata": {
        "id": "nhmCmsTLGTzL"
      },
      "source": [
        "Acrescente agora estas fórmulas ao problema `horario`, e encontre nova solução."
      ]
    },
    {
      "cell_type": "code",
      "metadata": {
        "id": "PyxVJHbJGTzL"
      },
      "source": [
        "# completar"
      ],
      "execution_count": null,
      "outputs": []
    }
  ]
}