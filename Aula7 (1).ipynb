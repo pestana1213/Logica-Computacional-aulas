{
 "cells": [
  {
   "cell_type": "markdown",
   "metadata": {
    "id": "FNdYXkIUq2sY"
   },
   "source": [
    "# Verificação Indutiva\n",
    "\n",
    "Na aula passada vimos como modelar sistemas dinâmicos com *First-order Transition Systems* (FOTSs) e como verificar propriedades de segurança e animação sobre estes sistemas com *Bounded Model Checking* (BMC). O procedimento de BMC verifica se uma propriedade é válida num FOTS considerando apenas um número limitado de estados de execução. Se quisermos verificar uma propriedade para qualquer execução não limitada do FOTS temos que usar um procedimento alternativo. Nesta aula vamos usar indução para fazer verificação em traços não limitadados.\n",
    "\n",
    "Começamos por instalar o Z3."
   ]
  },
  {
   "cell_type": "code",
   "execution_count": 29,
   "metadata": {
    "id": "E7lR0mEEYCsH"
   },
   "outputs": [
    {
     "name": "stdout",
     "output_type": "stream",
     "text": [
      "Requirement already satisfied: z3-solver in c:\\users\\pestana\\anaconda3\\lib\\site-packages (4.8.12.0)\n"
     ]
    }
   ],
   "source": [
    "!pip install z3-solver"
   ]
  },
  {
   "cell_type": "markdown",
   "metadata": {
    "id": "_s3umjWjq2sd"
   },
   "source": [
    "## Verificação indutiva de invariantes\n",
    "\n",
    "No caso da verificação de propriedades de segurança $G\\ \\phi$, para verificar o invariante $\\phi$ por indução temos que verificar as seguintes condições:\n",
    "- $\\phi$ é válido nos estados iniciais, ou seja, $\\mathit{init}(s) \\rightarrow \\phi(s)$\n",
    "- Para qualquer estado, assumindo que $\\phi$ é verdade, se executarmos uma transição, $\\phi$ continua a ser verdade no próximo estado, ou seja, $\\phi(s) \\wedge \\mathit{trans}(s,s') \\rightarrow \\phi(s')$."
   ]
  },
  {
   "cell_type": "markdown",
   "metadata": {
    "id": "ExovCEMTq2se"
   },
   "source": [
    "### Exercício 1\n",
    "\n",
    "Implemente o método `induction_always` para verificação de invariantes por indução. Note que terá que testar a validade das duas condições acima recorrendo à satisfiabilidade, ou seja, usando o solver para encontrar contra-exemplos, devendo o procedimento reportar qual das propriedades falha. Por exemplo, no caso da primeira deve procurar uma valoração que satisfaça $\\mathit{init}(s) \\wedge \\neg \\phi(s)$."
   ]
  },
  {
   "cell_type": "code",
   "execution_count": 30,
   "metadata": {
    "id": "eTlIix-2q2se"
   },
   "outputs": [],
   "source": [
    "from z3 import *\n",
    "\n",
    "def induction_always(declare,init,trans,inv):\n",
    "    # completar\n",
    "    s = Solver() \n",
    "    state = declare(0) #cria as variaveis \n",
    "    s.add(init(state))\n",
    "    s.add(Not(inv(state)))\n",
    "    \n",
    "    status = s.check()\n",
    "    \n",
    "    assert (status!=unknown)\n",
    "    if (status==sat):\n",
    "        print('Nao é verdade no estado inicial')\n",
    "        m = s.model()\n",
    "        for v in state:\n",
    "            print(v,'=',m[[state][v]])\n",
    "        return \n",
    "    s = Solver()\n",
    "    \n",
    "    pre = declare(0)\n",
    "    pos = declare(1)\n",
    "    s.add(inv(pre))\n",
    "    s.add(trans(pre,pos))\n",
    "    s.add(Not(inv(pos))) #O contra exemplo\n",
    "    status = s.check()\n",
    "    \n",
    "    assert (status!=unknown)\n",
    "    if (status==sat):\n",
    "        print('Nao é possivel provar o passo indutivo no estado')\n",
    "        m = s.model()\n",
    "        for v in state:\n",
    "            print(v,'=',m[pre[v]])\n",
    "        return \n",
    "    else: \n",
    "        print('Valida')\n",
    "    "
   ]
  },
  {
   "cell_type": "markdown",
   "metadata": {
    "id": "n7Tp8y0Tq2sg"
   },
   "source": [
    "Usando este procedimento podemos tentar verificar a propriedade $G (x \\ge 0)$ sobre o programa\n",
    "\n",
    "```Python\n",
    "{ x >= 3 }\n",
    "0: while (x>0):\n",
    "1:    x = x-1\n",
    "2: stop\n",
    "```"
   ]
  },
  {
   "cell_type": "code",
   "execution_count": 31,
   "metadata": {
    "id": "M-rhnphYq2sh"
   },
   "outputs": [
    {
     "name": "stdout",
     "output_type": "stream",
     "text": [
      "Nao é possivel provar o passo indutivo no estado\n",
      "pc = 1\n",
      "x = 0\n"
     ]
    }
   ],
   "source": [
    "def declare(i):\n",
    "    state = {}\n",
    "    state['pc'] = Int('pc'+str(i))\n",
    "    state['x'] = Int('x'+str(i))\n",
    "    return state\n",
    "\n",
    "def init(state):\n",
    "    return And(state['pc'] == 0, state['x']>=3)\n",
    "\n",
    "def trans(curr,prox):\n",
    "    t01 = And(curr['pc'] == 0,curr['x'] > 0,prox['pc'] == 1,prox['x'] == curr['x'])\n",
    "    t02 = And(curr['pc'] == 0,curr['x'] <= 0,prox['pc'] == 2,prox['x'] == curr['x'])\n",
    "    t10 = And(curr['pc'] == 1,prox['pc'] == 0,prox['x'] == curr['x']-1)\n",
    "    t22 = And(curr['pc'] == 2,prox['pc'] == 2,prox['x'] == curr['x'])\n",
    "    return Or(t02,t01,t10,t22)\n",
    "\n",
    "def positive(state):\n",
    "    return (state['x'] >= 0)\n",
    "\n",
    "induction_always(declare,init,trans,positive)"
   ]
  },
  {
   "cell_type": "markdown",
   "metadata": {
    "id": "qwlKfE4gq2si"
   },
   "source": [
    "Como se pode verificar, a propriedade anterior, embora seja verdade, não pode ser verificada por indução, pois o passo indutivo falha quando $\\mathit{pc} = 1$ e $x = 0$. De facto, este contra-exemplo para o passo de indução não é realista, dado que este estado não é acessível a partir do estado inicial. Para verificarmos esta propriedade por indução temos que encontrar um invariante $\\phi$ que seja mais forte que o desejado, ou seja, $\\phi(x,\\mathit{pc}) \\rightarrow x \\ge 0$, e que seja verificável por indução."
   ]
  },
  {
   "cell_type": "markdown",
   "metadata": {
    "id": "2pXO5njkq2sj"
   },
   "source": [
    "### Exercício 2\n",
    "\n",
    "Encontre uma propriedade mais forte que $x \\ge 0$ e que seja verificável por indução."
   ]
  },
  {
   "cell_type": "code",
   "execution_count": 32,
   "metadata": {
    "id": "f4lEpeshq2sj"
   },
   "outputs": [
    {
     "name": "stdout",
     "output_type": "stream",
     "text": [
      "Valida\n"
     ]
    }
   ],
   "source": [
    "# completar\n",
    "def stronger(state): \n",
    "    return (If(state['pc']==1,state['x']>0,state['x']>=0))\n",
    "\n",
    "induction_always(declare,init,trans,stronger)"
   ]
  },
  {
   "cell_type": "markdown",
   "metadata": {
    "id": "ZYl6hfLaq2sk"
   },
   "source": [
    "### Exercício 3\n",
    "\n",
    "Utilize o Z3 para verificar que essa propriedade é realmente mais forte que $x \\ge 0$."
   ]
  },
  {
   "cell_type": "code",
   "execution_count": 35,
   "metadata": {
    "id": "ftEnYAQ4q2sl"
   },
   "outputs": [
    {
     "name": "stdout",
     "output_type": "stream",
     "text": [
      "É mais forte\n"
     ]
    }
   ],
   "source": [
    "# completar\n",
    "s = Solver() \n",
    "state = declare(0)\n",
    "s.add(stronger(state))\n",
    "s.add(Not(positive(state)))\n",
    "if (s.check() == unsat): \n",
    "    print(\"É mais forte\")"
   ]
  },
  {
   "cell_type": "markdown",
   "metadata": {
    "id": "-kBZIxZRq2sl"
   },
   "source": [
    "Nem sempre é fácil encontrar um invariante indutivo mais forte que o desejado. Um procedimento de verificação alternativo que pode ser utilizado nesses casos é a designada $k$-indução. A ideia é generalizar a indução simples assumindo no passo indutivo que o invariante é válido nos $k$ estados anteriores. Claro que neste caso também será necessário verificar que a propriedade é válida nos $k$ primeiros estados. Com esta generalização é possível verificar que $x \\ge 0$ é um invariante recorrendo a $k$-indução com $k=2$."
   ]
  },
  {
   "cell_type": "markdown",
   "metadata": {
    "id": "7ICWikCAq2sm"
   },
   "source": [
    "### Exercício 4\n",
    "\n",
    "Implemente o método `kinduction_always` para verificação de invariantes por $k$-indução."
   ]
  },
  {
   "cell_type": "code",
   "execution_count": 49,
   "metadata": {
    "id": "XbVZXEOCq2sm"
   },
   "outputs": [
    {
     "name": "stdout",
     "output_type": "stream",
     "text": [
      "O invariante é valido\n"
     ]
    }
   ],
   "source": [
    "def kinduction_always(declare,init,trans,inv,k):\n",
    "    # completar\n",
    "    s = Solver() \n",
    "    state = {}\n",
    "    for i in range(k): \n",
    "        state[i] = declare(i) #criar k copias  \n",
    "    s.add(init(state[0]))\n",
    "    for i in range(k-1): \n",
    "        s.add(trans(state[i],state[i+1]))\n",
    "    s.add(Or([Not(inv(state[i])) for i in range(k)]))\n",
    "    status = s.check()\n",
    "    \n",
    "    assert (status!=unknown)\n",
    "    if (status==sat):\n",
    "        print('Nao é verdade nos estados iniciais')\n",
    "        m = s.model()\n",
    "        print(i)\n",
    "        for v in state[i]:\n",
    "            print(v,'=',m[state[i][v]])\n",
    "        return \n",
    "    \n",
    "    s = Solver() \n",
    "    state = {}\n",
    "    for i in range(k+1): \n",
    "        state[i] = declare(i)\n",
    "    for i in range(k): \n",
    "        s.add(inv(state[i]))\n",
    "        s.add(trans(state[i],state[i+1]))\n",
    "    s.add(Not(inv(state[k])))\n",
    "    status = s.check()\n",
    "    \n",
    "    assert (status!=unknown)\n",
    "    if (status==sat):\n",
    "        print('Nao é verdade nos estados iniciais')\n",
    "        m = s.model()\n",
    "        print(i)\n",
    "        for v in state[i]:\n",
    "            print(v,'=',m[state[i][v]])\n",
    "        return \n",
    "    print(\"O invariante é valido\")\n",
    "    \n",
    "def pc8(state): \n",
    "    return (state['pc']==0)\n",
    "\n",
    "kinduction_always(declare,init,trans,stronger,2)"
   ]
  },
  {
   "cell_type": "markdown",
   "metadata": {
    "id": "us3fkVlVq2sn"
   },
   "source": [
    "## Verificação de propriedades de animação por indução\n",
    "\n",
    "Como vimos, podemos verificar propriedades de animação do tipo $F\\ \\phi$ usando BMC. Mais uma vez, se quisermos verificar estas propriedades para qualquer execução ilimitada temos que usar um procedimento alternativo. Uma possibilidade consiste em reduzir a verificação dessas propriedades à verificação de uma propriedade de segurança, mais concretamente um invariante, que possa ser verificado por indução.\n",
    "\n",
    "Por exemplo, uma técnica que pode ser usada para verificar uma propriedade de animação do tipo $F\\ (G\\ \\phi)$, passa por descobrir um *variante* $V$ que satisfaz as seguintes condições:\n",
    "- O variante nunca é negativo, ou seja, $G\\ (V(s) \\ge 0)$\n",
    "- O variante descresce sempre (estritamente) ou atinge o valor 0, ou seja, $G\\ (\\forall s' . \\mathit{trans}(s,s') \\rightarrow (V(s') < V(s) \\vee V(s') = 0))$\n",
    "- Quando o variante é 0 verifica-se necessariamente $\\phi$, ou seja, $G\\ (V(s)=0 \\rightarrow \\phi(s))$\n",
    "\n",
    "A terminação de um programa é um dos exemplos de propriedade que encaixa neste padrão. Por exemplo, para o programa acima a terminação pode ser expressa por $F\\ (G\\ \\mathit{pc}=2)$ (note que devido ao lacete no estado final, o programa permanece indefinidamente no estado final).\n",
    "\n",
    "Note que a segunda condição recorre a uma quantificação universal sobre os possíveis estados alcançáveis por uma transição a partir de cada estado."
   ]
  },
  {
   "cell_type": "markdown",
   "metadata": {
    "id": "mMQvyYUJq2sn"
   },
   "source": [
    "### Exercício 5\n",
    "\n",
    "Descubra o variante que permite provar por indução que o programa acima termina. Encontre também os menores valores de $k$ que permitem provar as condições acima por $k$-indução."
   ]
  },
  {
   "cell_type": "code",
   "execution_count": 63,
   "metadata": {},
   "outputs": [
    {
     "name": "stdout",
     "output_type": "stream",
     "text": [
      "O invariante é valido\n"
     ]
    }
   ],
   "source": [
    "def utilidade(state): \n",
    "    return (Implies(state['x'] + 2 - state['pc']==0,state['pc']==2))\n",
    "\n",
    "kinduction_always(declare,init,trans,utilidade,2)\n",
    "\n"
   ]
  },
  {
   "cell_type": "code",
   "execution_count": 64,
   "metadata": {
    "id": "BSw7u8Peq2so"
   },
   "outputs": [
    {
     "name": "stdout",
     "output_type": "stream",
     "text": [
      "O invariante é valido\n"
     ]
    }
   ],
   "source": [
    "# completar\n",
    "def naonegativo(state): \n",
    "    return (state['x'] + 2 - state['pc']>=0)\n",
    "\n",
    "kinduction_always(declare,init,trans,naonegativo,3)\n"
   ]
  },
  {
   "cell_type": "code",
   "execution_count": 65,
   "metadata": {},
   "outputs": [
    {
     "name": "stdout",
     "output_type": "stream",
     "text": [
      "Nao é verdade nos estados iniciais\n",
      "1\n",
      "pc = 1\n",
      "x = 3\n"
     ]
    }
   ],
   "source": [
    "def decrescente(state): \n",
    "    proximo = declare(-1)\n",
    "    zero = 2*proximo['x'] + 2 - proximo['pc']==0\n",
    "    decresce = 2 * proximo['x'] + 2 - proximo['pc'] > 2 * state['x'] + 2 - state['pc']\n",
    "    formula = Implies(trans(state,proximo),Or(zero,decresce))\n",
    "    return (ForAll(list(proximo.values()), formula))\n",
    "            \n",
    "kinduction_always(declare,init,trans,decrescente,3)\n"
   ]
  },
  {
   "cell_type": "markdown",
   "metadata": {
    "id": "9QJB46sNq2so"
   },
   "source": [
    "### Exercício 6\n",
    "\n",
    "Encontrar um variante que decresça em todas as transições nem sempre é fácil. Podemos relaxar a segunda condição acima e exigir que o variante apenas tenha que decrescer estritamente a cada $l$ transições. Neste caso dizemos que temos um *lookahead* de $l$. Altere a definição da função decrescente por forma a considerar um lookahead de 2 e encontre um variante mais simples que o anterior que lhe permita verificar a terminação do programa."
   ]
  },
  {
   "cell_type": "code",
   "execution_count": null,
   "metadata": {
    "id": "U8xmhg1lq2sp"
   },
   "outputs": [],
   "source": [
    "# completar"
   ]
  }
 ],
 "metadata": {
  "colab": {
   "collapsed_sections": [],
   "name": "Aula7.ipynb",
   "provenance": []
  },
  "kernelspec": {
   "display_name": "Python 3",
   "language": "python",
   "name": "python3"
  },
  "language_info": {
   "codemirror_mode": {
    "name": "ipython",
    "version": 3
   },
   "file_extension": ".py",
   "mimetype": "text/x-python",
   "name": "python",
   "nbconvert_exporter": "python",
   "pygments_lexer": "ipython3",
   "version": "3.8.8"
  }
 },
 "nbformat": 4,
 "nbformat_minor": 1
}
